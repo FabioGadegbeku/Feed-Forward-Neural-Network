{
 "cells": [
  {
   "cell_type": "markdown",
   "metadata": {},
   "source": [
    "# Practical 2 Machine Learning 3\n",
    "### Gadegbeku Fabio"
   ]
  },
  {
   "cell_type": "markdown",
   "metadata": {},
   "source": [
    "## Preliminaries\n"
   ]
  },
  {
   "cell_type": "code",
   "execution_count": 2,
   "metadata": {},
   "outputs": [],
   "source": [
    "import numpy as np\n",
    "from sklearn.datasets import make_circles\n",
    "import matplotlib.pyplot as plt\n",
    "import copy"
   ]
  },
  {
   "cell_type": "code",
   "execution_count": 3,
   "metadata": {},
   "outputs": [
    {
     "data": {
      "text/plain": [
       "[<matplotlib.lines.Line2D at 0x169b37850>]"
      ]
     },
     "execution_count": 3,
     "metadata": {},
     "output_type": "execute_result"
    },
    {
     "data": {
      "image/png": "[encoded data removed]",
      "text/plain": [
       "<Figure size 600x600 with 1 Axes>"
      ]
     },
     "metadata": {},
     "output_type": "display_data"
    }
   ],
   "source": [
    "X,y = make_circles(n_samples = 300, noise=0.2, factor=0.1)\n",
    "n,d = X.shape\n",
    "plt.figure(1,figsize=[6,6])\n",
    "plt.plot(X[:,0][np.where(y==1)],X[:,1][np.where(y==1)],'.c')\n",
    "plt.plot(X[:,0][np.where(y==0)],X[:,1][np.where(y==0)],'.m')"
   ]
  },
  {
   "cell_type": "code",
   "execution_count": 4,
   "metadata": {},
   "outputs": [],
   "source": [
    "def sigmoid(x):\n",
    "    res = 1 / (1 + np.exp(-x))\n",
    "    return res"
   ]
  },
  {
   "cell_type": "markdown",
   "metadata": {},
   "source": [
    "## Exercise 1"
   ]
  },
  {
   "cell_type": "markdown",
   "metadata": {},
   "source": [
    "### Question 1.1"
   ]
  },
  {
   "cell_type": "code",
   "execution_count": 5,
   "metadata": {},
   "outputs": [],
   "source": [
    "class InputUnit:\n",
    "    def __init__(self,data):\n",
    "        self.data = data #one column of matrix X\n",
    "        self.n = data.shape[0] #dataset size\n",
    "        self.k = 0 #layer number\n",
    "        self.z = 0 #unit output\n",
    "        self.following = []\n",
    "        self.nfo = 0\n",
    "    def plug(self,following):\n",
    "            for elt in following:\n",
    "                self.following.append(elt)\n",
    "                self.nfo += 1\n",
    "    def forward(self,i):\n",
    "        self.z = self.data[i]\n",
    "        return self.z"
   ]
  },
  {
   "cell_type": "code",
   "execution_count": 6,
   "metadata": {},
   "outputs": [],
   "source": [
    "input1 = InputUnit(X[:,0])\n",
    "input2 = InputUnit(X[:,1])"
   ]
  },
  {
   "cell_type": "markdown",
   "metadata": {},
   "source": [
    "### Question 1.2"
   ]
  },
  {
   "cell_type": "code",
   "execution_count": 7,
   "metadata": {},
   "outputs": [],
   "source": [
    "class NeuralUnit:\n",
    "    #Constructor\n",
    "    def __init__(self,k,u):\n",
    "        self.u = u #unit number\n",
    "        self.preceding = [] #list of preceding neurons\n",
    "        self.npr = 0 #length of list preceding\n",
    "        self.following = [] #list of following neurons\n",
    "        self.nfo = 0 #length of list following\n",
    "        self.k = k #layer number\n",
    "        self.w = 0 #unit weights\n",
    "        self.b = 0 #unit intercept\n",
    "        self.z = 0 #unit output\n",
    "        \n",
    "    def reset_params(self):\n",
    "        self.w = np.random.randn(self.npr)\n",
    "        self.b = np.random.randn()\n",
    "    def plug(self,preceding,following):\n",
    "        for elt in preceding:\n",
    "            self.preceding.append(elt)\n",
    "            self.npr += 1\n",
    "        for elt in following:\n",
    "            self.following.append(elt)\n",
    "            self.nfo += 1\n",
    "\n",
    "    def forward(self,i):\n",
    "        z_in = np.zeros(self.npr)\n",
    "        for j in range(self.npr):\n",
    "            z_in[j]= self.preceding[j].forward(i)\n",
    "        self.z = sigmoid(np.dot(self.w.T,z_in)+self.b)\n",
    "        return(self.z)\n",
    "        \n",
    "    def backprop(self,i,deltas):\n",
    "        self.delta = np.zeros(self.w.shape)\n",
    "        self.w_grad = np.zeros(self.w.shape)\n",
    "        self.b_grad = 0\n",
    "        for v,prec_unit in enumerate(self.preceding):\n",
    "            self.delta[v]= self.z*(1-self.z)*self.w[v]*deltas[self.u]\n",
    "            self.w_grad[v]= self.z*(1-self.z)*prec_unit.z*deltas[self.u]\n",
    "            self.b_grad = self.z*(1-self.z)*deltas[self.u]\n",
    "\n",
    "        \n",
    "        "
   ]
  },
  {
   "cell_type": "code",
   "execution_count": 8,
   "metadata": {},
   "outputs": [],
   "source": [
    "NeuralUnit1_1 = NeuralUnit(1,1)\n",
    "NeuralUnit1_2 = NeuralUnit(1,2)\n",
    "NeuralUnit2_1 = NeuralUnit(2,1)"
   ]
  },
  {
   "cell_type": "markdown",
   "metadata": {},
   "source": [
    "### Question 1.3 "
   ]
  },
  {
   "cell_type": "code",
   "execution_count": 9,
   "metadata": {},
   "outputs": [],
   "source": [
    "class Loss:\n",
    "    #Constructor\n",
    "    def __init__(self,y,k):\n",
    "        self.preceding = [] #list of preceding neurons\n",
    "        self.npr = 0 #length of list preceding\n",
    "        self.y = y #array of class labels of the training data\n",
    "        self.k = k #layer index\n",
    "        self.delta = np.zeros((1,))\n",
    "\n",
    "    def plug(self,preceding):\n",
    "        for elt in preceding:\n",
    "            self.preceding.append(elt)\n",
    "            self.npr += 1\n",
    "\n",
    "    def forward(self,i):\n",
    "        z_in = self.preceding[0].forward(i)\n",
    "        li = -(1-self.y[i])*np.log(1-z_in) - self.y[i]*np.log(z_in)\n",
    "        return li\n",
    "    def backprop(self,i):\n",
    "        z_in = self.preceding[0].forward(i)\n",
    "        self.delta[0]=(1-self.y[i])*1/(1-z_in) -y[i]*1/z_in\n",
    "\n"
   ]
  },
  {
   "cell_type": "code",
   "execution_count": 10,
   "metadata": {},
   "outputs": [],
   "source": [
    "H = Loss(y,3)"
   ]
  },
  {
   "cell_type": "markdown",
   "metadata": {},
   "source": [
    "### Question 1.4"
   ]
  },
  {
   "cell_type": "markdown",
   "metadata": {},
   "source": [
    "### Question 1.5"
   ]
  },
  {
   "cell_type": "code",
   "execution_count": 11,
   "metadata": {},
   "outputs": [],
   "source": [
    "class MLP:\n",
    "#Constructor\n",
    "    def __init__(self,X,y,archi):\n",
    "        self.archi = archi\n",
    "        self.X = X\n",
    "        self.n = X.shape[0]\n",
    "        self.y = y\n",
    "        self.K = len(archi) #number of layers (including input layer but omitting loss layer)\n",
    "        #creating network\n",
    "        net = []\n",
    "        for k in range(self.K):\n",
    "            if k == 0:\n",
    "                input_units = []\n",
    "                for i in range(archi[k]):\n",
    "                    input_unit = InputUnit(X[:,i])\n",
    "                    input_units.append(input_unit)\n",
    "                net.append(input_units)\n",
    "            elif k == self.K-1:\n",
    "                    loss = Loss(y,k)\n",
    "                    net.append([loss])\n",
    "            else:\n",
    "                neural_units = []\n",
    "                for i in range(archi[k]):\n",
    "                    neural_unit = NeuralUnit(k,i)\n",
    "                    neural_units.append(neural_unit)\n",
    "                net.append(neural_units)\n",
    "\n",
    "        #plugging units\n",
    "        for k in range(self.K):\n",
    "            if k == 0:\n",
    "                for input_unit in net[k]:\n",
    "                    input_unit.plug(net[k+1])\n",
    "            elif k == self.K-1:\n",
    "                for loss in net[k]:\n",
    "                    loss.plug(net[k-1])\n",
    "            else:\n",
    "                for neural_unit in net[k]:\n",
    "                    neural_unit.plug(net[k-1],net[k+1])\n",
    "                    neural_unit.reset_params()\n",
    "\n",
    "        self.net = net\n",
    "\n",
    "    def forward(self,i):\n",
    "        res = self.net[self.K-1][0].forward(i)\n",
    "        return res\n",
    "    \n",
    "    def backprop(self,i):\n",
    "        for k in range(self.K-1,0,-1):\n",
    "            if k == self.K-1:\n",
    "                self.net[k][0].backprop(i)\n",
    "                deltas = self.net[k][0].delta\n",
    "            else:\n",
    "                deltas_new = np.zeros((self.net[k][0].npr,))\n",
    "                for u in range(len(self.net[k])):\n",
    "                    self.net[k][u].backprop(i,deltas)\n",
    "                    deltas_new+=self.net[k][u].delta\n",
    "                deltas = deltas_new\n",
    "\n",
    "    def train(self, epochs,eta):\n",
    "        for epoch in range(epochs):\n",
    "            for i in range(self.n):\n",
    "                self.forward(i)\n",
    "                self.backprop(i)\n",
    "                self.update(eta)\n",
    "\n",
    "    def predict(self,i):\n",
    "        res = self.net[self.K-2][0].forward(i)\n",
    "        return res\n",
    "    \n",
    "    def update(self,eta):\n",
    "        for k in range(1,self.K-1):\n",
    "            for neural_unit in self.net[k]:\n",
    "                neural_unit.w -= eta*neural_unit.w_grad\n",
    "                neural_unit.b -= eta*neural_unit.b_grad\n",
    "        \n",
    "\n",
    "        \n",
    "\n",
    "\n",
    "\n",
    "\n",
    "            \n",
    "\n",
    "        "
   ]
  },
  {
   "cell_type": "code",
   "execution_count": 12,
   "metadata": {},
   "outputs": [
    {
     "name": "stdout",
     "output_type": "stream",
     "text": [
      "The network is composed of 3 layers\n",
      "The full network is : [[<__main__.InputUnit object at 0x169bd57d0>, <__main__.InputUnit object at 0x169bd6950>], [<__main__.NeuralUnit object at 0x169bdc250>, <__main__.NeuralUnit object at 0x169bdc5d0>], [<__main__.NeuralUnit object at 0x169bdc4d0>], [<__main__.Loss object at 0x169bde190>]]\n",
      "The followings of the first input unit of first layer are : [<__main__.NeuralUnit object at 0x169bdc250>, <__main__.NeuralUnit object at 0x169bdc5d0>]\n",
      "The followings of first neural unit of first layer are : [<__main__.NeuralUnit object at 0x169bdc4d0>]\n",
      "The precedings of the first neural unit of the first layer are: [<__main__.InputUnit object at 0x169bd57d0>, <__main__.InputUnit object at 0x169bd6950>]\n",
      "The precedings of loss layer are: [<__main__.NeuralUnit object at 0x169bdc4d0>]\n",
      "random weights of first neural unit of first layer are: [-0.79456761 -2.01158755] 0.6499924215585995\n"
     ]
    }
   ],
   "source": [
    "mlp = MLP(X,y,[2,2,1,1]) #it's easier for me to incorporate the loss layer in the network\n",
    "print('The network is composed of',mlp.K -1,'layers')\n",
    "print('The full network is :',mlp.net)\n",
    "print('The followings of the first input unit of first layer are :',mlp.net[0][0].following)\n",
    "print('The followings of first neural unit of first layer are :',mlp.net[1][0].following)\n",
    "print('The precedings of the first neural unit of the first layer are:',mlp.net[1][0].preceding)\n",
    "print('The precedings of loss layer are:',mlp.net[3][0].preceding)  \n",
    "print('random weights of first neural unit of first layer are:',mlp.net[1][0].w,mlp.net[1][0].b)"
   ]
  },
  {
   "cell_type": "markdown",
   "metadata": {},
   "source": [
    "## Exercise 2"
   ]
  },
  {
   "cell_type": "markdown",
   "metadata": {},
   "source": [
    "### Question 2.1"
   ]
  },
  {
   "cell_type": "code",
   "execution_count": 13,
   "metadata": {},
   "outputs": [],
   "source": [
    "#   def forward(self,i):\n",
    "#         self.z = self.data[i]\n",
    "#         return self.z"
   ]
  },
  {
   "cell_type": "markdown",
   "metadata": {},
   "source": [
    "### Question 2.2"
   ]
  },
  {
   "cell_type": "code",
   "execution_count": 14,
   "metadata": {},
   "outputs": [],
   "source": [
    "#   def forward(self,i):\n",
    "#         z_in = np.zeros(self.npr)\n",
    "#         for j in range(self.npr):\n",
    "#             z_in[j]= self.preceding[j].forward(i)\n",
    "#         self.z = sigmoid(np.dot(self.w.T,z_in)+self.b)\n",
    "#         return(self.z)\n",
    "        "
   ]
  },
  {
   "cell_type": "markdown",
   "metadata": {},
   "source": [
    "### Question 2.3"
   ]
  },
  {
   "cell_type": "code",
   "execution_count": 15,
   "metadata": {},
   "outputs": [],
   "source": [
    "#   def forward(self,i):\n",
    "#         z_in = self.preceding[0].forward(i)\n",
    "#         li = -(1-self.y[i])*np.log(1-z_in) - self.y[i]*np.log(z_in)\n",
    "#         return li"
   ]
  },
  {
   "cell_type": "markdown",
   "metadata": {},
   "source": [
    "### Question 2.4"
   ]
  },
  {
   "cell_type": "code",
   "execution_count": 16,
   "metadata": {},
   "outputs": [
    {
     "name": "stdout",
     "output_type": "stream",
     "text": [
      "The correct label is : 0\n",
      "The output of the layer 2 neural unit is : 0.3170286644066126\n",
      "The loss is : 0.3813023886765429\n"
     ]
    }
   ],
   "source": [
    "    # def forward(self,i):\n",
    "    #     res = self.net[self.K-1][0].forward(i)\n",
    "    #     return res\n",
    "            \n",
    "print('The correct label is :',y[0])\n",
    "print('The output of the layer 2 neural unit is :',mlp.net[2][0].forward(0))\n",
    "print('The loss is :',mlp.forward(0))"
   ]
  },
  {
   "cell_type": "markdown",
   "metadata": {},
   "source": [
    "## Exercise 3 "
   ]
  },
  {
   "cell_type": "markdown",
   "metadata": {},
   "source": [
    "### Question 3.1"
   ]
  },
  {
   "cell_type": "code",
   "execution_count": 17,
   "metadata": {},
   "outputs": [],
   "source": [
    "#   def backprop(self,i):\n",
    "#         z_in = self.preceding[0].forward(i)\n",
    "#         self.delta[0]=(1-self.y[i])*1/(1-z_in) -y[i]*1/z_in"
   ]
  },
  {
   "cell_type": "markdown",
   "metadata": {},
   "source": [
    "### Question 3.2"
   ]
  },
  {
   "cell_type": "code",
   "execution_count": 18,
   "metadata": {},
   "outputs": [],
   "source": [
    "    # def backprop(self,i,deltas):\n",
    "    #     self.delta = np.zeros(self.w.shape)\n",
    "    #     self.w_grad = np.zeros(self.w.shape)\n",
    "    #     self.b_grad = 0\n",
    "    #     for v,prec_unit in enumerate(self.preceding):\n",
    "    #         self.delta[v]= self.z*(1-self.z)*self.w[v]*deltas[self.u]\n",
    "    #         self.w_grad[v]= self.z*(1-self.z)*prec_unit.z*deltas[self.u]\n",
    "    #         self.b_grad = self.z*(1-self.z)*deltas[self.u]"
   ]
  },
  {
   "cell_type": "markdown",
   "metadata": {},
   "source": [
    "### Qustion 3.3"
   ]
  },
  {
   "cell_type": "code",
   "execution_count": 19,
   "metadata": {},
   "outputs": [],
   "source": [
    "#    def backprop(self,i):\n",
    "#         for k in range(self.K-1,0,-1):\n",
    "#             if k == self.K-1:\n",
    "#                 self.net[k][0].backprop(i)\n",
    "#                 deltas = self.net[k][0].delta\n",
    "#             else:\n",
    "#                 deltas_new = np.zeros((self.net[k][0].npr,))\n",
    "#                 for u in range(len(self.net[k])):\n",
    "#                     self.net[k][u].backprop(i,deltas)\n",
    "#                     deltas_new+=self.net[k][u].delta\n",
    "#                 deltas = deltas_new"
   ]
  },
  {
   "cell_type": "markdown",
   "metadata": {},
   "source": [
    "### Question 3.4"
   ]
  },
  {
   "cell_type": "code",
   "execution_count": 20,
   "metadata": {},
   "outputs": [
    {
     "name": "stdout",
     "output_type": "stream",
     "text": [
      "numerical derivative is: -0.013613513538429656\n",
      "computed derivative is: -0.013611982076933225\n"
     ]
    }
   ],
   "source": [
    "i = 0\n",
    "archi = [d,10,1,1]\n",
    "mlp = MLP(X,y,archi)\n",
    "mlp.forward(i)\n",
    "mlp.backprop(i)\n",
    "epsi=1e-3\n",
    "mlp2 = copy.deepcopy(mlp)\n",
    "mlp2.net[1][0].w[0] = mlp.net[1][0].w[0] + epsi\n",
    "print(\"numerical derivative is:\",(mlp2.forward(i) - mlp.forward(i))/epsi)\n",
    "print(\"computed derivative is:\",mlp.net[1][0].w_grad[0])"
   ]
  },
  {
   "cell_type": "markdown",
   "metadata": {},
   "source": [
    "## Exercise 4"
   ]
  },
  {
   "cell_type": "markdown",
   "metadata": {},
   "source": [
    "### Question 1"
   ]
  },
  {
   "cell_type": "code",
   "execution_count": 21,
   "metadata": {},
   "outputs": [],
   "source": [
    "#  def update(self,eta):\n",
    "#         for k in range(1,self.K-1):\n",
    "#             for neural_unit in self.net[k]:\n",
    "#                 neural_unit.w -= eta*neural_unit.w_grad\n",
    "#                 neural_unit.b -= eta*neural_unit.b_grad"
   ]
  },
  {
   "cell_type": "markdown",
   "metadata": {},
   "source": [
    "### Question 2"
   ]
  },
  {
   "cell_type": "code",
   "execution_count": 22,
   "metadata": {},
   "outputs": [],
   "source": [
    "mlp.train(100,0.01)"
   ]
  },
  {
   "cell_type": "markdown",
   "metadata": {},
   "source": [
    "### Question 3"
   ]
  },
  {
   "cell_type": "code",
   "execution_count": 23,
   "metadata": {},
   "outputs": [],
   "source": [
    "#   def predict(self,i):\n",
    "#         res = self.net[self.K-2][0].forward(i)\n",
    "#         return res"
   ]
  },
  {
   "cell_type": "markdown",
   "metadata": {},
   "source": [
    "### Question 4"
   ]
  },
  {
   "cell_type": "code",
   "execution_count": 24,
   "metadata": {},
   "outputs": [
    {
     "data": {
      "text/plain": [
       "<matplotlib.contour.QuadContourSet at 0x169e076d0>"
      ]
     },
     "execution_count": 24,
     "metadata": {},
     "output_type": "execute_result"
    },
    {
     "data": {
      "image/png": "[encoded data removed]",
      "text/plain": [
       "<Figure size 600x600 with 1 Axes>"
      ]
     },
     "metadata": {},
     "output_type": "display_data"
    }
   ],
   "source": [
    "h = .02\n",
    "x1_min, x1_max = X[:, 0].min() - .5, X[:, 0].max() + .5\n",
    "x2_min, x2_max = X[:, 1].min() - .5, X[:, 1].max() + .5\n",
    "x11, x22 = np.meshgrid(np.arange(x1_min, x1_max, h),\n",
    "                        np.arange(x2_min, x2_max, h))\n",
    "X_disp = np.c_[x11.ravel(), x22.ravel()]\n",
    "n_disp = X_disp.shape[0]\n",
    "Z = []\n",
    "for u in range(mlp.archi[0]):\n",
    "    mlp.net[0][u].data = X_disp[:,u]\n",
    "for i in range(n_disp):\n",
    "    Z.append(mlp.predict(i))\n",
    "for u in range(mlp.archi[0]):\n",
    "    mlp.net[0][u].data = X[:,u]\n",
    "Z = np.array(Z)\n",
    "Z = Z.reshape(x11.shape)\n",
    "plt.figure(2,figsize=[6,6])\n",
    "plt.plot(X[:,0][np.where(y==1)],X[:,1][np.where(y==1)],'.r')\n",
    "plt.plot(X[:,0][np.where(y==0)],X[:,1][np.where(y==0)],'.b')\n",
    "plt.contourf(x11, x22, Z, cmap=plt.cm.bwr, alpha=.8)"
   ]
  }
 ],
 "metadata": {
  "kernelspec": {
   "display_name": "py3",
   "language": "python",
   "name": "python3"
  },
  "language_info": {
   "codemirror_mode": {
    "name": "ipython",
    "version": 3
   },
   "file_extension": ".py",
   "mimetype": "text/x-python",
   "name": "python",
   "nbconvert_exporter": "python",
   "pygments_lexer": "ipython3",
   "version": "3.11.0"
  }
 },
 "nbformat": 4,
 "nbformat_minor": 2
}
